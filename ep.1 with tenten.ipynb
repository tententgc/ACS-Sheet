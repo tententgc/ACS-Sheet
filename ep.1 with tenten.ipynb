{
 "cells": [
  {
   "cell_type": "code",
   "execution_count": 11,
   "metadata": {},
   "outputs": [
    {
     "name": "stdout",
     "output_type": "stream",
     "text": [
      "9\n"
     ]
    }
   ],
   "source": [
    "a = \"tenten\"\n",
    "print(9)#ตัวแปร"
   ]
  },
  {
   "cell_type": "code",
   "execution_count": 1,
   "metadata": {},
   "outputs": [
    {
     "name": "stdout",
     "output_type": "stream",
     "text": [
      "ใส่อักษร :64\n",
      "5\n",
      "64\n"
     ]
    }
   ],
   "source": [
    "a = input(\"ใส่อักษร :\")#istr\n",
    "b = int(input()) #int\n",
    "print(a)"
   ]
  },
  {
   "cell_type": "code",
   "execution_count": 13,
   "metadata": {},
   "outputs": [
    {
     "name": "stdout",
     "output_type": "stream",
     "text": [
      "-1\n",
      "<class 'float'>\n",
      "tententgc\n",
      "3.99\n",
      "True\n",
      "False\n",
      "gdjkdfds 8\n"
     ]
    }
   ],
   "source": [
    "#string => ข้อความ ตัวอักษร ' \"\" '''\n",
    "#number => integer , float\n",
    "#boolean => true , false\n",
    "print(-1)\n",
    "print(type(1.22))\n",
    "print(\"tenten\"+\"tgc\") # a b  is  str1+str2  str1str2\n",
    "print(3.99)\n",
    "print(True) # a&b  a\\\\b \n",
    "print(False)\n",
    "print(\"gdjkdfds\",+ 8)# str+int"
   ]
  },
  {
   "cell_type": "code",
   "execution_count": 22,
   "metadata": {},
   "outputs": [
    {
     "name": "stdout",
     "output_type": "stream",
     "text": [
      "<class 'float'>\n",
      "<class 'str'>\n",
      "<class 'bool'>\n"
     ]
    }
   ],
   "source": [
    "# Data Type & Variable\n",
    "# ชื่อตัวแปร = ค่าที่เก็บในตัวแปร\n",
    "\n",
    "x = 20 #integer\n",
    "y = 3.99 #float\n",
    "z = True #logic\n",
    "#print(\"ผลลัพธ์ = \"+str(x))\n",
    "# print(y)\n",
    "# print(z)\n",
    "print(type(y))\n",
    "print(type(\"tentenTGC\"))\n",
    "print(type(z))\n"
   ]
  },
  {
   "cell_type": "code",
   "execution_count": 8,
   "metadata": {},
   "outputs": [
    {
     "name": "stdout",
     "output_type": "stream",
     "text": [
      "A\n",
      "B\n",
      "C\n"
     ]
    }
   ],
   "source": [
    "#กฎการตั้งชื่อ\n",
    "\n",
    "\"\"\"\n",
    "1.ใส่ตัวเลข ตัวอักษร เครื่องหมาย \n",
    "2.ห้ามขึ้นต้นด้วยตัวเลขและสัญสักษณ์ ยกเว้น _ \n",
    "3.ห้ามซ้ำกับ keywords\n",
    "4.case sensitive \n",
    "\"\"\" \n",
    "\n",
    "name=\"A\"\n",
    "NAME=\"B\"\n",
    "nAmE=\"C\"\n",
    "\n",
    "print(name)\n",
    "print(NAME)\n",
    "print(nAmE)"
   ]
  },
  {
   "cell_type": "code",
   "execution_count": 14,
   "metadata": {},
   "outputs": [
    {
     "name": "stdout",
     "output_type": "stream",
     "text": [
      "2010\n",
      "13.145\n",
      "70.0\n"
     ]
    }
   ],
   "source": [
    "#Type Coversion\n",
    "x = 10\n",
    "y = 3.145\n",
    "z = \"20\"\n",
    "\n",
    "#\"20\" = > 20\n",
    "# 10 => \"10\"\n",
    "\n",
    "z1 =str(x) # x=10 --> x=\"10\"\n",
    "print(z+z1)\n",
    "# \"10\" + \"20\" =\"1020\" => result\n",
    "\n",
    "\n",
    "\n",
    "\n",
    "# 10+3.14 = 13.14\n",
    "print(x+y)\n",
    "\n",
    "\n",
    "\n",
    "\n",
    "# string => int \n",
    "# int => string\n",
    "\n",
    "#string => float\n",
    "#float => string\n",
    "\n",
    "# int => float\n",
    "# float => int\n",
    "# บวกเลข \n",
    "z=float(z) \n",
    "z=z+50\n",
    "print(z)"
   ]
  },
  {
   "cell_type": "code",
   "execution_count": null,
   "metadata": {},
   "outputs": [
    {
     "name": "stdout",
     "output_type": "stream",
     "text": [
      "ป้อนตัวเลขตัวที่ 1 : 554\n"
     ]
    }
   ],
   "source": [
    "# input\n",
    "x= int(input(\"ป้อนตัวเลขตัวที่ 1 : \")) #รับค่าที่ผู้ใช้ป้อนแล้วเก็บลงตัวแปร fname\n",
    "y=int(input(\"ป้อนตัวเลขตัวที่ 2 : \"))\n",
    "#process & output \n",
    "print(x+y)"
   ]
  },
  {
   "cell_type": "code",
   "execution_count": 16,
   "metadata": {},
   "outputs": [
    {
     "name": "stdout",
     "output_type": "stream",
     "text": [
      "ผลบวก 13\n",
      "ผลลบ 7\n",
      "ผลคูณ 30\n",
      "3.3333333333333335\n",
      "หารปัดเศษ 3\n",
      "ยกกำลัง 1000\n",
      "หารเอาเศษ 1\n"
     ]
    }
   ],
   "source": [
    "# ตัวดำเนินการทางคณิตศาสตร์\n",
    "x = 10\n",
    "y = 3\n",
    "\n",
    "print(\"ผลบวก\" , x+y)\n",
    "print(\"ผลลบ\" , x-y)\n",
    "print(\"ผลคูณ\", x*y)\n",
    "n=x/y\n",
    "print(n)\n",
    "\n",
    "#print(\"ผลหาร\",round(n,2))\n",
    "#print(\"ผลหาร\",round(x/y,2))\n",
    "#print(\"ผลหาร\",f'{x/y:.2f}')\n",
    "\n",
    "print(\"หารปัดเศษ\", x//y) \n",
    "print(\"ยกกำลัง\",x**y)\n",
    "print(\"หารเอาเศษ\",x%y)"
   ]
  },
  {
   "cell_type": "code",
   "execution_count": 19,
   "metadata": {},
   "outputs": [
    {
     "name": "stdout",
     "output_type": "stream",
     "text": [
      "6.79\n",
      "6.79\n",
      "6.79\n",
      "6.79\n"
     ]
    }
   ],
   "source": [
    "a = 6.789809823\n",
    "print('%.2f' %a)\n",
    "print(round(a,2))\n",
    "print(f'{a:.2f}')\n",
    "print (\"{0:.2f}\".format(a)) "
   ]
  },
  {
   "cell_type": "code",
   "execution_count": 27,
   "metadata": {},
   "outputs": [
    {
     "data": {
      "text/plain": [
       "3"
      ]
     },
     "execution_count": 27,
     "metadata": {},
     "output_type": "execute_result"
    }
   ],
   "source": [
    "import math\n",
    "x=2.0164565\n",
    "math.ceil(x) # ข้ามไปก่อนค่อยมาสอน"
   ]
  },
  {
   "cell_type": "code",
   "execution_count": 24,
   "metadata": {},
   "outputs": [
    {
     "name": "stdout",
     "output_type": "stream",
     "text": [
      "ค่า x มากกว่า y หรือไม่ ? :  True\n",
      "ค่า x น้อยกว่า y หรือไม่ ? : False\n",
      "ค่า x เท่ากับ y หรือไม่ ? : False\n",
      "ค่า x ไม่เท่ากับ y หรือไม่ ? True\n",
      "ค่า x มากกว่า หรือ เท่ากับ ค่า y หรือไม่ ? True\n",
      "ค่า x น้อยกว่า หรือ เท่ากับ ค่า y หรือไม่ ? False\n",
      "ค่า x มากกว่า y และ y มากกว่า z หรือไม่ ? :  True\n",
      "ค่า x น้อยกว่า y และ y น้อยกว่า z หรือไม่ ? :  False\n"
     ]
    }
   ],
   "source": [
    "#ตัวดำเนินการเปรียบเทียบ(เช็ค logic)\n",
    "\n",
    "# นำข้อมูลอย่างน้อย 2 ค่ามาเปรียบเทียบกัน\n",
    "# ชนิดข้อมูลเหมือนกัน\n",
    "# คำตอบ 2 คำตอบ => จริง / เท็จ\n",
    "\n",
    "x,y,z = 8, 7,5\n",
    "\n",
    "print(\"ค่า x มากกว่า y หรือไม่ ? : \",x>y)\n",
    "print(\"ค่า x น้อยกว่า y หรือไม่ ? :\", x<y)\n",
    "print(\"ค่า x เท่ากับ y หรือไม่ ? :\", x==y)\n",
    "print(\"ค่า x ไม่เท่ากับ y หรือไม่ ?\",x!=y)\n",
    "\n",
    "print(\"ค่า x มากกว่า หรือ เท่ากับ ค่า y หรือไม่ ?\",x>=y)\n",
    "print(\"ค่า x น้อยกว่า หรือ เท่ากับ ค่า y หรือไม่ ?\", x<=y)\n",
    "\n",
    "#และ\n",
    "print(\"ค่า x มากกว่า y และ y มากกว่า z หรือไม่ ? : \",x>y>z)\n",
    "print(\"ค่า x น้อยกว่า y และ y น้อยกว่า z หรือไม่ ? : \",x<y<z)"
   ]
  },
  {
   "cell_type": "code",
   "execution_count": 27,
   "metadata": {},
   "outputs": [
    {
     "name": "stdout",
     "output_type": "stream",
     "text": [
      "True\n"
     ]
    }
   ],
   "source": [
    "#ตัวดำเนินการทางตรรกศาสตร์\n",
    "\n",
    "#AND = และ\n",
    "#OR = หรือ\n",
    "#NOT = ไม่\n",
    "\n",
    "#คำตอบที่ได้ => จริง / เท็จ\n",
    "\n",
    "x = (10>5) #ค่า x = bool\n",
    "y = (10==5) #ค่า y = bool\n",
    "\n",
    "z = (5>10) and (10==5)\n",
    "# 5>10 and 10 == 5 \n",
    "#z = (10>5) or (10==5)\n",
    "\n",
    "print(not z)\n"
   ]
  },
  {
   "cell_type": "code",
   "execution_count": 40,
   "metadata": {},
   "outputs": [
    {
     "name": "stdout",
     "output_type": "stream",
     "text": [
      "ก่อน 10\n",
      "หลัง 1\n"
     ]
    }
   ],
   "source": [
    "x=10\n",
    "print(\"ก่อน\",x)\n",
    "# x+=5 # x=x+5\n",
    "# x-=15 # x = x-15\n",
    " #x*=5 # x=x*5\n",
    "# x/=5 # x=x/5\n",
    "# x//=5\n",
    "# x**=2 # x= x**2\n",
    "x%=3 # หาเศษที่เหลือของการหาร\n",
    "print(\"หลัง\",x)"
   ]
  },
  {
   "cell_type": "code",
   "execution_count": 12,
   "metadata": {},
   "outputs": [
    {
     "name": "stdout",
     "output_type": "stream",
     "text": [
      "2.4000000000000004\n"
     ]
    }
   ],
   "source": [
    "#ลำดับความสำคัญของตัวดำเนินการทางคณิตศาสตร์10\n",
    "x=5+(2/10*2)-3  # 5+0.4-5\n",
    "print(x)"
   ]
  },
  {
   "cell_type": "code",
   "execution_count": 13,
   "metadata": {},
   "outputs": [
    {
     "name": "stdout",
     "output_type": "stream",
     "text": [
      "ป้อนน้ำหนักของคุณ (kg):40\n",
      "ป้อนส่วนสูงของคุณ (cm) :170\n",
      "BMI =  13.84\n"
     ]
    }
   ],
   "source": [
    "#โปรแกรมคำนวณค่า BMI (ดัชนีมวลกาย)\n",
    "# BMI = น้ำหนัก (kg) / ส่วนสูง * ส่วนสูง (m)\n",
    "# input / convert to integer\n",
    "weight=int(input(\"ป้อนน้ำหนักของคุณ (kg):\"))\n",
    "high=int(input(\"ป้อนส่วนสูงของคุณ (cm) :\"))/100\n",
    "print(\"BMI = \",round (weight/(high**2),2))\n",
    "# ไว้สอนเขียน tkinter + if else  แสดงค่าผอมมากผอมน้อยทีหลัง"
   ]
  },
  {
   "cell_type": "code",
   "execution_count": 16,
   "metadata": {},
   "outputs": [
    {
     "name": "stdout",
     "output_type": "stream",
     "text": [
      "ป้อนอายุของคุณ :16\n",
      "วัยรุ่น\n",
      "จบโปรแกรม\n"
     ]
    }
   ],
   "source": [
    "age=int(input(\"ป้อนอายุของคุณ :\"))\n",
    "#35\n",
    "if age>=15 and age < 20 :   #logic \n",
    "    print(\"วัยรุ่น\")   \n",
    "elif age>=20 and age<30:\n",
    "    print(\"วัยหนุ่มสาว\")\n",
    "elif age>=30 and age<80:\n",
    "    print(\"วัยผู้ใหญ่\")\n",
    "elif age>=80:\n",
    "    print(\"วัยชรา\")\n",
    "else :\n",
    "    print(\"วัยเด็ก\")\n",
    "\n",
    "print(\"จบโปรแกรม\")\n",
    "\n",
    "# 15 - 20 => วัยรุ่น\n",
    "# 21 - 29 => วัยหนุ่มสาว\n",
    "# 30 - 39 => วัยผู้ใหญ่\n",
    "\n",
    "\n",
    "# and or not "
   ]
  },
  {
   "cell_type": "markdown",
   "metadata": {},
   "source": [
    "ดัชนีมวลกาย (BMI)   =   น้ำหนักตัว (กิโลกรัม)\n",
    "\n",
    "                                   ส่วนสูง (เมตร)2\n",
    "\n",
    "            โดยสามารถแปลผลค่า BMI ได้ดังนี้\n",
    "\n",
    "ค่า BMI < 18.5              แสดงถึง            อยู่ในเกณฑ์น้ำหนักน้อยหรือผอม\n",
    "\n",
    "ค่า BMI 18.5 – 22.90     แสดงถึง            อยู่ในเกณฑ์ปกติ\n",
    "\n",
    "ค่า BMI 23 – 24.90        แสดงถึง            น้ำหนักเกิน\n",
    "\n",
    "ค่า BMI 25 – 29.90        แสดงถึง            โรคอ้วนระดับที่ 1\n",
    "\n",
    "ค่า BMI 30 ขึ้นไป            แสดงถึง            โรคอ้วนระดับที่ 2"
   ]
  },
  {
   "cell_type": "code",
   "execution_count": 17,
   "metadata": {},
   "outputs": [
    {
     "name": "stdout",
     "output_type": "stream",
     "text": [
      "ป้อนน้ำหนักของคุณ (kg):83\n",
      "ป้อนส่วนสูงของคุณ (cm) :173\n",
      "โรคอ้วนระดับที่ 1\n",
      "27.73\n"
     ]
    }
   ],
   "source": [
    "weight=int(input(\"ป้อนน้ำหนักของคุณ (kg):\"))\n",
    "high=int(input(\"ป้อนส่วนสูงของคุณ (cm) :\"))/100\n",
    "BMI = round (weight/(high**2),2)\n",
    "if BMI<18.5:\n",
    "    print(\"อยู่ในเกณฑ์น้ำหนักน้อยหรือผอม\")\n",
    "elif BMI>=18.5 and BMI<23:\n",
    "    print(\"อยู่ในเกณฑ์ปกติ\")\n",
    "elif BMI>=23 and BMI<25:\n",
    "    print(\"น้ำหนักเกิน\")\n",
    "elif BMI>=25 and BMI<30:\n",
    "    print(\"โรคอ้วนระดับที่ 1\")\n",
    "else :\n",
    "    print(\" โรคอ้วนระดับที่ 2\")\n",
    "print(BMI)"
   ]
  },
  {
   "cell_type": "code",
   "execution_count": null,
   "metadata": {},
   "outputs": [],
   "source": [
    "age=int(input(\"ป้อนอายุของคุณ :\"))\n",
    "#Ternary Operator\n",
    "print(\"วัยรุ่น\") if age>=15 else print(\"วัยเด็ก\")\n",
    "\n",
    "print(\"จบโปรแกรม\")\n",
    "\n",
    "# 15 - 20 => วัยรุ่น\n",
    "\n",
    "\n",
    "# and or not "
   ]
  },
  {
   "cell_type": "code",
   "execution_count": 73,
   "metadata": {},
   "outputs": [
    {
     "name": "stdout",
     "output_type": "stream",
     "text": [
      "ป้อนอายุของคุณ : 15\n",
      "ม.3\n",
      "จบโปรแกรม\n"
     ]
    }
   ],
   "source": [
    "# if ซ้อน if\n",
    "age=int(input(\"ป้อนอายุของคุณ : \"))\n",
    "\n",
    "if age<=15: #ตรวจสอบคุณสสมบัติ\n",
    "    if age==15:\n",
    "        print(\"ม.3\")\n",
    "    elif age==14:\n",
    "        print(\"ม.2\")\n",
    "    elif age==13:\n",
    "        print(\"ม.1\")\n",
    "    else :\n",
    "        print(\"ประถมศึกษา\")\n",
    "else :\n",
    "    print(\"ม.ปลาย\")\n",
    "\n",
    "print(\"จบโปรแกรม\")"
   ]
  },
  {
   "cell_type": "code",
   "execution_count": 20,
   "metadata": {},
   "outputs": [
    {
     "name": "stdout",
     "output_type": "stream",
     "text": [
      "ป้อนอายุของคุณ : 15\n",
      "จบโปรแกรม\n"
     ]
    }
   ],
   "source": [
    "# pass\n",
    "age=int(input(\"ป้อนอายุของคุณ : \"))\n",
    "\n",
    "if age<=15:\n",
    "    if age==15:\n",
    "        pass\n",
    "    elif age==14:\n",
    "        pass\n",
    "    else :\n",
    "        print(\"ประถมศึกษา\")\n",
    "else :\n",
    "    print(\"ม.ปลาย\")\n",
    "\n",
    "print(\"จบโปรแกรม\")"
   ]
  },
  {
   "cell_type": "code",
   "execution_count": 21,
   "metadata": {},
   "outputs": [
    {
     "name": "stdout",
     "output_type": "stream",
     "text": [
      "ป้อนตัวเลขที่ 1 :3\n",
      "ป้อนตัวเลขที่ 2 :5\n",
      "3  น้อยกว่า  5\n"
     ]
    }
   ],
   "source": [
    "# เขียนโปรแกรมหาตัวเลข มาก / น้อย\n",
    "\n",
    "a=int(input(\"ป้อนตัวเลขที่ 1 :\"))\n",
    "b=int(input(\"ป้อนตัวเลขที่ 2 :\"))\n",
    "\n",
    "if a>b :\n",
    "    print(a,\" มากกว่า \",b)\n",
    "else :\n",
    "    print(a,\" น้อยกว่า \",b)"
   ]
  },
  {
   "cell_type": "code",
   "execution_count": 76,
   "metadata": {},
   "outputs": [
    {
     "name": "stdout",
     "output_type": "stream",
     "text": [
      "ป้อนตัวเลขของคุณ :2\n",
      "เป็นเลขคู่\n"
     ]
    }
   ],
   "source": [
    "#หาเลขคู่ / คี่\n",
    "\n",
    "number = int(input(\"ป้อนตัวเลขของคุณ :\"))\n",
    "\n",
    "# ถ้าหาร 2 ลงตัว => คู่\n",
    "if number % 2 == 0:\n",
    "    print(\"เป็นเลขคู่\")\n",
    "else :\n",
    "    print(\"เป็นเลขคี่\")\n"
   ]
  },
  {
   "cell_type": "code",
   "execution_count": 25,
   "metadata": {},
   "outputs": [
    {
     "name": "stdout",
     "output_type": "stream",
     "text": [
      "ป้อนจำนวนเงินของคุณ : 1116\n",
      "1000 บาท =  1 ใบ\n",
      "100 บาท =  1 ใบ\n",
      "10 บาท =  1 เหรียญ\n",
      "5 บาท =  1 เหรียญ\n",
      "1 บาท =  6 เหรียญ\n"
     ]
    }
   ],
   "source": [
    "#แลกเงินและหาจำนวนแบงค์\n",
    "# 2000 => 1000 => 2 ใบ\n",
    "# 1500 =>1000  1 ใบ , 500 = 1 ใบ\n",
    "# 1800 =>1000 บาท 1 ใบ , 500 = 1 ใบ , 100 => 3 ใบ\n",
    "# 100 => 50 => 2 ใบ\n",
    "#2520 =  1 พันบาท 2 ใบ 500  1 ใบ 20 บาท 1ใบ\n",
    "\n",
    "number = int(input(\"ป้อนจำนวนเงินของคุณ : \")) #25555\n",
    "# 1500\n",
    "if number>=1000:\n",
    "    print(\"1000 บาท = \",number//1000,\"ใบ\") # 1 ใบ  \n",
    "    number%=1000 # 1500 % 1000 = 500\n",
    "\n",
    "if number>=500:\n",
    "    print(\"500 บาท = \",number//500,\"ใบ\")\n",
    "    number%=500\n",
    "\n",
    "if number>=100:\n",
    "    print(\"100 บาท = \",number//100,\"ใบ\")\n",
    "    number%=100\n",
    "\n",
    "if number>=50:\n",
    "    print(\"50 บาท = \",number//50,\"ใบ\")\n",
    "    number%=50\n",
    "\n",
    "if number>=20:\n",
    "    print(\"20 บาท = \",number//20,\"ใบ\")\n",
    "    number%=20\n",
    "\n",
    "if number>=10:\n",
    "    print(\"10 บาท = \",number//10,\"เหรียญ\")\n",
    "    number%=10\n",
    "if number>=5:\n",
    "    print(\"5 บาท = \",number//5,\"เหรียญ\")\n",
    "    number%=5\n",
    "if number>=1:\n",
    "    print(\"1 บาท = \",number//1,\"เหรียญ\")\n",
    "    number%=1"
   ]
  },
  {
   "cell_type": "code",
   "execution_count": 78,
   "metadata": {},
   "outputs": [
    {
     "name": "stdout",
     "output_type": "stream",
     "text": [
      "ป้อน พ.ศ :2563\n",
      "เป็น ค.ศ =  2020\n"
     ]
    }
   ],
   "source": [
    "# แปลง ค.ศ เป็น พ.ศ\n",
    "# แปลง พ.ศ เป็น ค.ศ\n",
    "\n",
    "number = int(input(\"ป้อน พ.ศ :\"))\n",
    "\n",
    "# แปลง ค.ศ เป็น พ.ศ + 543\n",
    "# แปลง พ.ศ เป็น ค.ศ - 543\n",
    "number=number-543\n",
    "number-=543\n",
    "\n",
    "print(\"เป็น ค.ศ = \",number)"
   ]
  },
  {
   "cell_type": "code",
   "execution_count": 5,
   "metadata": {},
   "outputs": [
    {
     "name": "stdout",
     "output_type": "stream",
     "text": [
      "ถูกหวย\n"
     ]
    }
   ],
   "source": [
    "name=  \"string\"\n",
    "\n",
    "if name.endswith(\"\"):\n",
    "    print(\"ถูกหวย\")\n",
    "else :\n",
    "    print(\"ไม่ถูกหวย\")"
   ]
  },
  {
   "cell_type": "code",
   "execution_count": 7,
   "metadata": {},
   "outputs": [
    {
     "name": "stdout",
     "output_type": "stream",
     "text": [
      "ป้อนอุณหภูมิ (องศาเช่น 45C or 20f ) :50f\n",
      "แปลงตัวเลข =  50f  เป็น  เซลเซียส  =  10.00\n"
     ]
    }
   ],
   "source": [
    "#แปลงอุณหภูมิ\n",
    "temp = input(\"ป้อนอุณหภูมิ (องศาเช่น 45C or 20f ) :\") #45C \n",
    "\n",
    "degree= int(temp[:-1]) #45c\n",
    "unit=temp[-1].upper() #C\n",
    "\n",
    "\n",
    "if unit==\"C\" :\n",
    "    result=(9*degree)/5+32\n",
    "    unit_result=\"ฟาเรนไฮน์\"\n",
    "if unit==\"F\":\n",
    "    result=(degree-32)*5/9\n",
    "    unit_result=\"เซลเซียส\"\n",
    "\n",
    "print(\"แปลงตัวเลข = \",temp,\" เป็น \",unit_result,\" = \",\"{0:.2f}\".format(result))"
   ]
  },
  {
   "cell_type": "code",
   "execution_count": 9,
   "metadata": {},
   "outputs": [
    {
     "name": "stdout",
     "output_type": "stream",
     "text": [
      "รอบที่  =  0\n",
      "รอบที่  =  1\n",
      "รอบที่  =  2\n",
      "รอบที่  =  3\n",
      "รอบที่  =  4\n",
      "รอบที่  =  5\n",
      "รอบที่  =  6\n",
      "รอบที่  =  7\n",
      "รอบที่  =  8\n",
      "รอบที่  =  9\n",
      "รอบที่  =  10\n",
      "ผลรวม =  55\n",
      "เฉลี่ย =  5.5\n"
     ]
    }
   ],
   "source": [
    "# โครงสร้างควบคุมแบบทำซ้ำ\n",
    "summation=0\n",
    "\n",
    "for i in range(1,11): # summation\n",
    "    print(\"รอบที่  = \",i)\n",
    "    summation += i #summation = summation + i\n",
    "\n",
    "print(\"ผลรวม = \", summation)\n",
    "print(\"เฉลี่ย = \", summation/10)"
   ]
  },
  {
   "cell_type": "code",
   "execution_count": 10,
   "metadata": {},
   "outputs": [
    {
     "name": "stdout",
     "output_type": "stream",
     "text": [
      "1\n",
      "2\n",
      "3\n"
     ]
    }
   ],
   "source": [
    "i=1\n",
    "while i<=3:\n",
    "    print(i)\n",
    "    i+=1"
   ]
  },
  {
   "cell_type": "code",
   "execution_count": 12,
   "metadata": {},
   "outputs": [
    {
     "name": "stdout",
     "output_type": "stream",
     "text": [
      "รอบที่ =  1  ตำแหน่งที่ =  1\n",
      "รอบที่ =  1  ตำแหน่งที่ =  2\n",
      "รอบที่ =  1  ตำแหน่งที่ =  3\n",
      "รอบที่ =  1  ตำแหน่งที่ =  4\n",
      "รอบที่ =  1  ตำแหน่งที่ =  5\n",
      "รอบที่ =  2  ตำแหน่งที่ =  1\n",
      "รอบที่ =  2  ตำแหน่งที่ =  2\n",
      "รอบที่ =  2  ตำแหน่งที่ =  3\n",
      "รอบที่ =  2  ตำแหน่งที่ =  4\n",
      "รอบที่ =  2  ตำแหน่งที่ =  5\n",
      "รอบที่ =  3  ตำแหน่งที่ =  1\n",
      "รอบที่ =  3  ตำแหน่งที่ =  2\n",
      "รอบที่ =  3  ตำแหน่งที่ =  3\n",
      "รอบที่ =  3  ตำแหน่งที่ =  4\n",
      "รอบที่ =  3  ตำแหน่งที่ =  5\n",
      "รอบที่ =  1  ตำแหน่งที่ =  1\n",
      "รอบที่ =  1  ตำแหน่งที่ =  2\n",
      "รอบที่ =  1  ตำแหน่งที่ =  3\n",
      "รอบที่ =  1  ตำแหน่งที่ =  4\n",
      "รอบที่ =  1  ตำแหน่งที่ =  5\n",
      "รอบที่ =  2  ตำแหน่งที่ =  1\n",
      "รอบที่ =  2  ตำแหน่งที่ =  2\n",
      "รอบที่ =  2  ตำแหน่งที่ =  3\n",
      "รอบที่ =  2  ตำแหน่งที่ =  4\n",
      "รอบที่ =  2  ตำแหน่งที่ =  5\n",
      "รอบที่ =  3  ตำแหน่งที่ =  1\n",
      "รอบที่ =  3  ตำแหน่งที่ =  2\n",
      "รอบที่ =  3  ตำแหน่งที่ =  3\n",
      "รอบที่ =  3  ตำแหน่งที่ =  4\n",
      "รอบที่ =  3  ตำแหน่งที่ =  5\n"
     ]
    }
   ],
   "source": [
    "# Loop ซ้อน Loop\n",
    "i=1\n",
    "while i<=3 : #i>3 ออกลูป\n",
    "    j=1 # ตัวนับ\n",
    "    while j<=5: #j>5  ออกลูป\n",
    "        print(\"รอบที่ = \",i,\" ตำแหน่งที่ = \", j)\n",
    "        j+=1\n",
    "    i+=1\n",
    "\n",
    "\n",
    "for i in range(1,4):\n",
    "    for j in range(1,6):\n",
    "        print(\"รอบที่ = \",i,\" ตำแหน่งที่ = \", j)"
   ]
  },
  {
   "cell_type": "code",
   "execution_count": 13,
   "metadata": {},
   "outputs": [
    {
     "name": "stdout",
     "output_type": "stream",
     "text": [
      "ป้อนแม่สูตรคูณเริ่มต้น = 3\n",
      "ป้อนแม่สูตรคูณสุดท้าย = 4\n",
      "แม่ =  3\n",
      "3 x 1  =  3\n",
      "3 x 2  =  6\n",
      "3 x 3  =  9\n",
      "3 x 4  =  12\n",
      "3 x 5  =  15\n",
      "3 x 6  =  18\n",
      "3 x 7  =  21\n",
      "3 x 8  =  24\n",
      "3 x 9  =  27\n",
      "3 x 10  =  30\n",
      "3 x 11  =  33\n",
      "3 x 12  =  36\n",
      "แม่ =  4\n",
      "4 x 1  =  4\n",
      "4 x 2  =  8\n",
      "4 x 3  =  12\n",
      "4 x 4  =  16\n",
      "4 x 5  =  20\n",
      "4 x 6  =  24\n",
      "4 x 7  =  28\n",
      "4 x 8  =  32\n",
      "4 x 9  =  36\n",
      "4 x 10  =  40\n",
      "4 x 11  =  44\n",
      "4 x 12  =  48\n"
     ]
    }
   ],
   "source": [
    "start=int(input(\"ป้อนแม่สูตรคูณเริ่มต้น = \")) # 1\n",
    "stop=int(input(\"ป้อนแม่สูตรคูณสุดท้าย = \")) # 4\n",
    "\n",
    "for x in range(start,stop+1): #2 3 4 5 6 7\n",
    "    print(\"แม่ = \",x)\n",
    "    for y in range(1,13): #1 23 456789101112\n",
    "        print(x,'x',y ,\" = \",(x*y))"
   ]
  },
  {
   "cell_type": "code",
   "execution_count": 14,
   "metadata": {},
   "outputs": [
    {
     "name": "stdout",
     "output_type": "stream",
     "text": [
      "1\n",
      "2\n",
      "3\n",
      "4\n",
      "5\n",
      "6\n",
      "7\n",
      "จบโปรแกรม\n"
     ]
    }
   ],
   "source": [
    "for i in range(1,11):\n",
    "    print(i)\n",
    "    if(i==7):\n",
    "        break\n",
    "\n",
    "print(\"จบโปรแกรม\")"
   ]
  },
  {
   "cell_type": "code",
   "execution_count": 16,
   "metadata": {},
   "outputs": [
    {
     "name": "stdout",
     "output_type": "stream",
     "text": [
      "ใส่จำนวนที่ต้องการบวก2\n",
      "ป้อนตัวเลขของคุณ :54\n",
      "ป้อนตัวเลขของคุณ :12\n",
      "ผลรวม =  66\n",
      "ค่าเฉลี่ย  =  33.0\n"
     ]
    }
   ],
   "source": [
    "sum_input = int (input(\"ใส่จำนวนที่ต้องการบวก\"))\n",
    "start , stop = 1,sum_input\n",
    "sum ,avg =0,0\n",
    "while (start<=stop):\n",
    "    number=int(input(\"ป้อนตัวเลขของคุณ :\"))\n",
    "    sum+=number # บวกเลขที่ป้อนแต่ละรอบ sum =1+2+65\n",
    "    start+=1\n",
    "\n",
    "print(\"ผลรวม = \", sum)\n",
    "print(\"ค่าเฉลี่ย  = \",round(sum/stop,2))"
   ]
  },
  {
   "cell_type": "code",
   "execution_count": 18,
   "metadata": {},
   "outputs": [
    {
     "name": "stdout",
     "output_type": "stream",
     "text": [
      "ป้อนตัวเลขของคุณ :24\n",
      "ผลรวม =  24\n",
      "ป้อนตัวเลขของคุณ :54\n",
      "ผลรวม =  78\n",
      "ป้อนตัวเลขของคุณ :2\n",
      "ผลรวม =  80\n",
      "ป้อนตัวเลขของคุณ :1\n",
      "ผลรวม =  81\n",
      "ป้อนตัวเลขของคุณ :3\n",
      "ผลรวม =  84\n",
      "ป้อนตัวเลขของคุณ :2\n",
      "ผลรวม =  86\n",
      "ป้อนตัวเลขของคุณ :5\n",
      "ผลรวม =  91\n",
      "ป้อนตัวเลขของคุณ :16\n",
      "107\n"
     ]
    }
   ],
   "source": [
    "sum = 0 \n",
    "while True: #loop infinity\n",
    "    number=int(input(\"ป้อนตัวเลขของคุณ :\"))\n",
    "    sum+=number # บวกเลขที่ป้อนแต่ละรอบ\n",
    "    if sum>=100:\n",
    "        break\n",
    "    print(\"ผลรวม = \", sum)\n",
    "print(sum)"
   ]
  },
  {
   "cell_type": "code",
   "execution_count": 20,
   "metadata": {},
   "outputs": [
    {
     "name": "stdout",
     "output_type": "stream",
     "text": [
      "ป้อนตัวเลขของคุณ :65\n",
      "ป้อนตัวเลขของคุณ :69\n",
      "ป้อนตัวเลขของคุณ :586\n",
      "ป้อนตัวเลขของคุณ :214\n",
      "ป้อนตัวเลขของคุณ :23\n",
      "ป้อนตัวเลขของคุณ :65\n",
      "ป้อนตัวเลขของคุณ :-1\n",
      "ค่าสูงสุด =  586\n",
      "ค่าต่ำสุด =  23\n"
     ]
    }
   ],
   "source": [
    "# ค้นหาตัวเลข มากสุด / น้อยสุด\n",
    "\n",
    "max ,min = 0,9999\n",
    "while True :\n",
    "    number=int(input(\"ป้อนตัวเลขของคุณ :\")) \n",
    "    #กระโดดออกจาก loop\n",
    "    if number<0 :\n",
    "        break\n",
    "    if number>max : #13\n",
    "        max=number\n",
    "    if number<min: #1 \n",
    "        min=number\n",
    "\n",
    "print(\"ค่าสูงสุด = \", max)\n",
    "print(\"ค่าต่ำสุด = \",min)"
   ]
  },
  {
   "cell_type": "code",
   "execution_count": 35,
   "metadata": {},
   "outputs": [
    {
     "name": "stdout",
     "output_type": "stream",
     "text": [
      "ป้อนตัวเลข = 5\n",
      "1 \n",
      "12 \n",
      "123 \n",
      "1234 \n",
      "12345 \n"
     ]
    },
    {
     "data": {
      "text/plain": [
       "'\\ninput = 3\\n\\nrow = 1 , 3\\ncolumn 1,2\\n1\\n\\nrow 2\\ncolumn 1, 3\\n12\\n\\nrow 3\\ncolumn 1,4\\n123\\n\\n'"
      ]
     },
     "execution_count": 35,
     "metadata": {},
     "output_type": "execute_result"
    }
   ],
   "source": [
    "# ตัวเลขขั้นบันได\n",
    "\n",
    "\"\"\"\n",
    "\n",
    "\n",
    "1\n",
    "12\n",
    "123\n",
    "1234\n",
    "12345\n",
    "123456\n",
    "\n",
    "\"\"\"\n",
    "\n",
    "last=int(input(\"ป้อนตัวเลข = \"))\n",
    "\n",
    "for row in range(1,last+1): \n",
    "    for column in range(1,row+1):\n",
    "        print(column,end='')\n",
    "    print(\" \")\n",
    "\n",
    "\"\"\"\n",
    "input = 3\n",
    "\n",
    "row = 1 , 3\n",
    "column 1,2\n",
    "1\n",
    "\n",
    "row 2\n",
    "column 1, 3\n",
    "12\n",
    "\n",
    "row 3\n",
    "column 1,4\n",
    "123\n",
    "\n",
    "\"\"\""
   ]
  },
  {
   "cell_type": "code",
   "execution_count": 31,
   "metadata": {},
   "outputs": [
    {
     "name": "stdout",
     "output_type": "stream",
     "text": [
      "ป้อนขนาด  = 5\n",
      "x x x x x  \n",
      "x x x x x  \n",
      "x x x x x  \n",
      "x x x x x  \n",
      "x x x x x  \n"
     ]
    }
   ],
   "source": [
    "#สร้างภาพวาด 4 เหลี่ยมจตุรัส\n",
    "\n",
    "\"\"\"\n",
    "3x3\n",
    "xxx\n",
    "xxx\n",
    "xxx\n",
    "\n",
    "2x2\n",
    "xx\n",
    "xx\n",
    "\n",
    "5x5\n",
    "xxxxx\n",
    "xxxxx\n",
    "xxxxx\n",
    "xxxxx\n",
    "xxxxx\n",
    "\n",
    "\"\"\"\n",
    "\n",
    "number=int(input(\"ป้อนขนาด  = \")) # 5 => 0,1,2,3,4\n",
    "\n",
    "\"\"\"\n",
    "\n",
    "\"\"\"\n",
    "for row in range(number) : #นอน\n",
    "    for column in range(number): # ตั้ง\n",
    "        print(\"x\",end=\" \")      #end =\" \"  = ให้ขึ้นยรรทัดเดิม\n",
    "    print(\" \")\n"
   ]
  },
  {
   "cell_type": "code",
   "execution_count": 15,
   "metadata": {},
   "outputs": [
    {
     "name": "stdout",
     "output_type": "stream",
     "text": [
      "ป้อนขนาด  = 6\n",
      "x o x o x o  \n",
      "o x o x o x  \n",
      "x o x o x o  \n",
      "o x o x o x  \n",
      "x o x o x o  \n",
      "o x o x o x  \n"
     ]
    },
    {
     "data": {
      "text/plain": [
       "'\\nxox\\noxo\\nxox\\n'"
      ]
     },
     "execution_count": 15,
     "metadata": {},
     "output_type": "execute_result"
    }
   ],
   "source": [
    "# ตารางหมากฮอต\n",
    "\n",
    "\"\"\"\n",
    "xxx\n",
    "xxx\n",
    "xxx\n",
    "\n",
    "x = สีน้ำตาล\n",
    "o = สีขาว\n",
    "\"\"\"\n",
    "number=int(input(\"ป้อนขนาด  = \"))\n",
    "for row in range(number) :\n",
    "    for column in range(number):\n",
    "        print(\"x\",end=\" \") if (row+column)%2 == 0 else print(\"o\",end=\" \")\n",
    "\n",
    "    print(\" \")\n",
    "\n",
    "# 3 x 3 \n",
    "# row = 0 +  column = 0  \n",
    "# row = 0 +  1 \n",
    "# row = 0 +  2\n",
    "\n",
    "# row = 1 +  column = 0  \n",
    "# row = 1 +  1 \n",
    "# row = 1 +  2\n",
    "\n",
    "# row = 2 +  column = 0  \n",
    "# row = 2 +  1 \n",
    "# row = 2 +  2\n",
    "\n",
    "\n",
    "\"\"\"\n",
    "xox\n",
    "oxo\n",
    "xox\n",
    "\"\"\""
   ]
  },
  {
   "cell_type": "code",
   "execution_count": 32,
   "metadata": {},
   "outputs": [
    {
     "name": "stdout",
     "output_type": "stream",
     "text": [
      "ป้อนขนาด  = 5\n",
      "xxxxx \n",
      "x   x \n",
      "x   x \n",
      "x   x \n",
      "xxxxx \n"
     ]
    }
   ],
   "source": [
    "# สร้างขอบตาราง\n",
    "\n",
    "number=int(input(\"ป้อนขนาด  = \")) \n",
    "for row in range(number) :\n",
    "    for column in range(number):\n",
    "        if row==0 or row==number-1 or column==0 or column==number-1:\n",
    "           print(\"x\",end=\"\")\n",
    "        else:\n",
    "            print(\"\",end=\" \")\n",
    "    print(\" \")\n"
   ]
  },
  {
   "cell_type": "code",
   "execution_count": 23,
   "metadata": {},
   "outputs": [
    {
     "name": "stdout",
     "output_type": "stream",
     "text": [
      "คุณมีโอกาสตอบ 3 ครั้ง \n",
      "\n",
      "ป้อนคำตอบของคุณ = 6\n",
      "น้อยกว่า\n",
      "ป้อนคำตอบของคุณ = 5\n",
      "ตอบถูกรับไปเลย 1 ล้านบาท\n"
     ]
    }
   ],
   "source": [
    "# เกมทายเลขลูกเต๋า\n",
    "# 1,2,3,4,5,6\n",
    "\n",
    "import random\n",
    "#สุ่มเลขลูกเต๋า\n",
    "myrandom = random.randrange(1,7) # 1 - 6\n",
    "k=1\n",
    "correct=False\n",
    "print(\"คุณมีโอกาสตอบ 3 ครั้ง \\n\")\n",
    "#print(myrandom)\n",
    "while True:\n",
    "    number=int(input(\"ป้อนคำตอบของคุณ = \"))\n",
    "    correct=(number==myrandom) # true / false\n",
    "    if not correct :\n",
    "        if(number>myrandom):\n",
    "            print(\"น้อยกว่า\")\n",
    "        if(number<myrandom):\n",
    "            print(\"มากกว่า\")\n",
    "\n",
    "    if correct :\n",
    "        print(\"ตอบถูกรับไปเลย 1 ล้านบาท\")\n",
    "        break\n",
    "    if number<0 or k==3:\n",
    "        break\n",
    "    k+=1\n",
    "\n",
    "if not correct :\n",
    "    print(\"เสียใจด้วยนะ\")\n",
    "    print(\"เฉลย =\" , myrandom)\n"
   ]
  },
  {
   "cell_type": "code",
   "execution_count": 18,
   "metadata": {},
   "outputs": [
    {
     "name": "stdout",
     "output_type": "stream",
     "text": [
      "70\n",
      "B\n"
     ]
    }
   ],
   "source": [
    "score =int(input())\n",
    "print((score< 0 or score >100) and \"error\" or \"FFFFFDCBAAAA\"[score//10]) "
   ]
  },
  {
   "cell_type": "code",
   "execution_count": 3,
   "metadata": {},
   "outputs": [
    {
     "name": "stdout",
     "output_type": "stream",
     "text": [
      "5\n",
      "1\n",
      "2\n",
      "3\n",
      "4\n",
      "5\n"
     ]
    }
   ],
   "source": [
    "number =int(input())\n",
    "for i in range(1,number+1):\n",
    "    print(i)"
   ]
  },
  {
   "cell_type": "code",
   "execution_count": 38,
   "metadata": {},
   "outputs": [
    {
     "ename": "SyntaxError",
     "evalue": "invalid syntax (<ipython-input-38-51c130f86df8>, line 7)",
     "output_type": "error",
     "traceback": [
      "\u001b[1;36m  File \u001b[1;32m\"<ipython-input-38-51c130f86df8>\"\u001b[1;36m, line \u001b[1;32m7\u001b[0m\n\u001b[1;33m    for i in range(1,number+1):\u001b[0m\n\u001b[1;37m                              ^\u001b[0m\n\u001b[1;31mSyntaxError\u001b[0m\u001b[1;31m:\u001b[0m invalid syntax\n"
     ]
    }
   ],
   "source": [
    "number= int(input())\n",
    "dict_number=[\"0\",\"1\",\"2\",\"3\",\"4\",\"5\",\"6\",\"7\",\"8\",\"9\"]\n",
    "x=[]\n",
    "def loop(a):\n",
    "        print(dict_number[a]+dict_number[a+1]\n",
    "              \n",
    "for i in range(1,number+1):"
   ]
  },
  {
   "cell_type": "code",
   "execution_count": null,
   "metadata": {},
   "outputs": [],
   "source": [
    "a=int(input())\n",
    "dict_number=[\"0\",\"1\",\"2\",\"3\",\"4\",\"5\",\"6\",\"7\",\"8\",\"9\",\"1\"]\n",
    "x=1\n",
    "while x<a+1:\n",
    "    print(dict_number[10])\n",
    "    str_dict = dict_number[10]+dict_number[x+1]\n",
    "    dict_number[10]=str_dict\n",
    "    x+=1"
   ]
  },
  {
   "cell_type": "code",
   "execution_count": 39,
   "metadata": {},
   "outputs": [
    {
     "ename": "SyntaxError",
     "evalue": "invalid syntax (<ipython-input-39-784af35cf806>, line 2)",
     "output_type": "error",
     "traceback": [
      "\u001b[1;36m  File \u001b[1;32m\"<ipython-input-39-784af35cf806>\"\u001b[1;36m, line \u001b[1;32m2\u001b[0m\n\u001b[1;33m    dict_number=[\"0\",\"1\",\"2\",\"3\",\"4\",\"5\",\"6\",\"7\",\"8\",\"9\"]\u001b[0m\n\u001b[1;37m              ^\u001b[0m\n\u001b[1;31mSyntaxError\u001b[0m\u001b[1;31m:\u001b[0m invalid syntax\n"
     ]
    }
   ],
   "source": [
    "a = int(input()\n",
    "dict_number=[\"0\",\"1\",\"2\",\"3\",\"4\",\"5\",\"6\",\"7\",\"8\",\"9\"]\n",
    "for i in range(1,a+1):\n",
    "    b = int(1 + ((i-1)*2)+(((i-1)*(i-2))/2))   \n",
    "    print(dict_number[i])\n"
   ]
  },
  {
   "cell_type": "code",
   "execution_count": 36,
   "metadata": {},
   "outputs": [
    {
     "name": "stdout",
     "output_type": "stream",
     "text": [
      "4\n",
      "1\n",
      "12\n",
      "123\n",
      "1234\n"
     ]
    }
   ],
   "source": [
    "a = int(input())\n",
    "dict_number = [\"0\", \"1\", \"2\", \"3\", \"4\", \"5\", \"6\", \"7\", \"8\", \"9\", \"1\"]\n",
    "x = 1\n",
    "for x in range(1,a+1):\n",
    "    print(dict_number[10])\n",
    "    str_dict = dict_number[10]+dict_number[x+1]\n",
    "    dict_number[10] = str_dict\n",
    "    x += 1"
   ]
  },
  {
   "cell_type": "code",
   "execution_count": 14,
   "metadata": {},
   "outputs": [
    {
     "name": "stdout",
     "output_type": "stream",
     "text": [
      "150\n",
      "5 5\n"
     ]
    },
    {
     "ename": "TypeError",
     "evalue": "int() argument must be a string, a bytes-like object or a number, not 'list'",
     "output_type": "error",
     "traceback": [
      "\u001b[1;31m---------------------------------------------------------------------------\u001b[0m",
      "\u001b[1;31mTypeError\u001b[0m                                 Traceback (most recent call last)",
      "\u001b[1;32m<ipython-input-14-5c55a6cb3fb0>\u001b[0m in \u001b[0;36m<module>\u001b[1;34m\u001b[0m\n\u001b[0;32m      1\u001b[0m \u001b[0mweight\u001b[0m\u001b[1;33m=\u001b[0m\u001b[0mint\u001b[0m\u001b[1;33m(\u001b[0m\u001b[0minput\u001b[0m\u001b[1;33m(\u001b[0m\u001b[1;33m)\u001b[0m\u001b[1;33m)\u001b[0m\u001b[1;33m\u001b[0m\u001b[1;33m\u001b[0m\u001b[0m\n\u001b[0;32m      2\u001b[0m \u001b[0mh\u001b[0m \u001b[1;33m=\u001b[0m \u001b[0minput\u001b[0m\u001b[1;33m(\u001b[0m\u001b[1;33m)\u001b[0m\u001b[1;33m.\u001b[0m\u001b[0msplit\u001b[0m\u001b[1;33m(\u001b[0m\u001b[1;33m)\u001b[0m\u001b[1;33m\u001b[0m\u001b[1;33m\u001b[0m\u001b[0m\n\u001b[1;32m----> 3\u001b[1;33m \u001b[0mh\u001b[0m\u001b[1;33m=\u001b[0m\u001b[0mint\u001b[0m\u001b[1;33m(\u001b[0m\u001b[0mh\u001b[0m\u001b[1;33m)\u001b[0m\u001b[1;33m\u001b[0m\u001b[1;33m\u001b[0m\u001b[0m\n\u001b[0m\u001b[0;32m      4\u001b[0m \u001b[0mbmi\u001b[0m \u001b[1;33m=\u001b[0m \u001b[1;36m703\u001b[0m\u001b[1;33m*\u001b[0m\u001b[1;33m(\u001b[0m\u001b[0mweight\u001b[0m\u001b[1;33m/\u001b[0m\u001b[1;33m(\u001b[0m\u001b[0mh\u001b[0m\u001b[1;33m[\u001b[0m\u001b[1;36m0\u001b[0m\u001b[1;33m]\u001b[0m\u001b[1;33m*\u001b[0m\u001b[1;36m12\u001b[0m\u001b[1;33m+\u001b[0m\u001b[0mh\u001b[0m\u001b[1;33m[\u001b[0m\u001b[1;36m1\u001b[0m\u001b[1;33m]\u001b[0m\u001b[1;33m)\u001b[0m\u001b[1;33m**\u001b[0m\u001b[1;36m2\u001b[0m\u001b[1;33m)\u001b[0m\u001b[1;33m\u001b[0m\u001b[1;33m\u001b[0m\u001b[0m\n\u001b[0;32m      5\u001b[0m \u001b[0mprint\u001b[0m\u001b[1;33m(\u001b[0m\u001b[0mbmi\u001b[0m\u001b[1;33m)\u001b[0m\u001b[1;33m\u001b[0m\u001b[1;33m\u001b[0m\u001b[0m\n",
      "\u001b[1;31mTypeError\u001b[0m: int() argument must be a string, a bytes-like object or a number, not 'list'"
     ]
    }
   ],
   "source": [
    "weight=int(input())\n",
    "h = input().split()\n",
    "h=int(input(h))\n",
    "bmi = 703*(weight/(h[0]*12+h[1])**2)\n",
    "print(bmi)"
   ]
  },
  {
   "cell_type": "code",
   "execution_count": 20,
   "metadata": {},
   "outputs": [
    {
     "name": "stdout",
     "output_type": "stream",
     "text": [
      "valrorant\n"
     ]
    }
   ],
   "source": [
    "import random\n",
    "game_list = [\"dota2\", \"valrorant\"]\n",
    "x = random.randint(0, 1)\n",
    "print(game_list[x])"
   ]
  },
  {
   "cell_type": "code",
   "execution_count": null,
   "metadata": {},
   "outputs": [],
   "source": []
  },
  {
   "cell_type": "code",
   "execution_count": null,
   "metadata": {},
   "outputs": [],
   "source": []
  }
 ],
 "metadata": {
  "kernelspec": {
   "display_name": "Python 3",
   "language": "python",
   "name": "python3"
  },
  "language_info": {
   "codemirror_mode": {
    "name": "ipython",
    "version": 3
   },
   "file_extension": ".py",
   "mimetype": "text/x-python",
   "name": "python",
   "nbconvert_exporter": "python",
   "pygments_lexer": "ipython3",
   "version": "3.7.1"
  }
 },
 "nbformat": 4,
 "nbformat_minor": 2
}

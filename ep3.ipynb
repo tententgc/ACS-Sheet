{
 "cells": [
  {
   "cell_type": "code",
   "execution_count": null,
   "metadata": {},
   "outputs": [],
   "source": [
    "# #exception\n",
    "\"\"\"\n",
    "try:\n",
    "    คำสั่งรันโปรแกรมปกติ\n",
    "except:\n",
    "    คำสั่งตอนโปรแกรมพลาด\n",
    "\"\"\"\n",
    "\n",
    "try:\n",
    "    number1 =int(input(\"put numer :\"))\n",
    "    number2 =int(input(\"put numer :\"))\n",
    "    result = number1/number2\n",
    "    print(result)\n",
    "\n",
    "except:\n",
    "    print(\"โปรแกรมผิดพลาด\")\n"
   ]
  },
  {
   "cell_type": "code",
   "execution_count": null,
   "metadata": {},
   "outputs": [],
   "source": [
    "try:\n",
    "    # number1 = int(input(\"put number :\"))\n",
    "    # number2 = int(input(\"put number :\"))\n",
    "    # result = number1/number2\n",
    "    # print(result)\n",
    "    score= 10+\"50\"\n",
    "    print(score)\n",
    "\n",
    "except ValueError:\n",
    "    print(\"please give number only on input\")\n",
    "except ZeroDivisionError:\n",
    "    print(\"can not put zero on number2\")\n",
    "except:\n",
    "    print(\"It no type same\")\n",
    "#ValueError = ค่าผิดพลาด\n",
    "#ZeroDivisionError\n",
    "\n"
   ]
  },
  {
   "cell_type": "code",
   "execution_count": null,
   "metadata": {},
   "outputs": [],
   "source": [
    "try:\n",
    "    # number1 = int(input(\"put number :\"))\n",
    "    # number2 = int(input(\"put number :\"))\n",
    "    # result = number1/number2\n",
    "    # print(result)\n",
    "    score= 10+\"50\"\n",
    "    print(score)\n",
    "\n",
    "except ValueError:\n",
    "    #print(\"please give number only on input\")\n",
    "    pass\n",
    "except ZeroDivisionError:\n",
    "    #print(\"can not put zero on number2\")\n",
    "    pass\n",
    "except TypeError: \n",
    "    pass\n",
    "    #print(\"It no type same\")"
   ]
  },
  {
   "cell_type": "code",
   "execution_count": null,
   "metadata": {},
   "outputs": [],
   "source": [
    "try:\n",
    "    number1 = int(input(\"put number :\"))\n",
    "    number2 = int(input(\"put number :\"))\n",
    "    result = number1/number2\n",
    "    print(result)\n",
    "\n",
    "except Exception as e:\n",
    "    print(e)\n",
    "\n",
    "else:\n",
    "    print(\"ทำงานสำเร็จ\") #ทำงานเมื่อเป็นจริง\n",
    "    \n",
    "finally:\n",
    "    print(\"ทำานต่อไป\") #รันผ่านหรือไม่ผ่านก็ทำงาน"
   ]
  },
  {
   "cell_type": "code",
   "execution_count": null,
   "metadata": {},
   "outputs": [],
   "source": [
    "while True:\n",
    "    try:\n",
    "        number1 = int(input(\"put number :\"))\n",
    "        number2 = int(input(\"put number :\"))\n",
    "        if number1==0 and number2== 0:\n",
    "            break\n",
    "        result = number1/number2\n",
    "        print(result)\n",
    "    # except ValueError:\n",
    "    #     print(\"please give number only on input\")\n",
    "    # except ZeroDivisionError:\n",
    "    #     print(\"can not put zero on number2\")\n",
    "\n",
    "    except Exception as e:\n",
    "        print(e)\n",
    "\n",
    "    finally:\n",
    "        print(\"ทำานต่อไป.....\")  # รันผ่านหรือไม่ผ่านก็ทำงาน\n"
   ]
  },
  {
   "cell_type": "code",
   "execution_count": null,
   "metadata": {},
   "outputs": [],
   "source": [
    "#โปรแกรมบัญชีธนาคาร\n",
    "from typing import Type\n",
    "\n",
    "\n",
    "account ={\"นายA\":5000,\"นายB\":0}\n",
    "def getbalance():\n",
    "    print(\"ยอดเงินคงเหลือ :\",account)\n",
    "\n",
    "def deposit(money):\n",
    "    if not type(money) is int and not type(money) is float:\n",
    "        raise Exception(\"กรุณาระบุตัวเลขเท่านัน้นะครับ\")\n",
    "    if money<0:\n",
    "        raise Exception(\"ค่าตัวเลขเป็นบวกเท่านั้น\")\n",
    "    print(\"ฝากเงิน :\",money)\n",
    "    account[\"นายA\"]+=money\n",
    "\n",
    "def withdraw(money):\n",
    "    if not type(money) is int and not type(money) is float:\n",
    "        raise Exception(\"กรุณาระบุตัวเลขเท่านัน้นะครับ\")\n",
    "    if money < 0:\n",
    "        raise Exception(\"ค่าตัวเลขเป็นบวกเท่านั้น\")\n",
    "    if money >account[\"นายA\"]:\n",
    "        raise Exception(\"ยอดเงินในบัญชีไม่พอ\")\n",
    "    print(\"ถอนเงิน :\", money)\n",
    "    account[\"นายA\"] -= money\n",
    "\n",
    "\n",
    "def tranfer(money):\n",
    "    if not type(money) is int and not type(money) is float:\n",
    "        raise Exception(\"กรุณาระบุตัวเลขเท่านัน้นะครับ\")\n",
    "    if money < 0:\n",
    "        raise Exception(\"ค่าตัวเลขเป็นบวกเท่านั้น\")\n",
    "    if account[\"นายA\"]< money:\n",
    "        raise Exception(\"จำนวเงินไม่เพียงพอ\")\n",
    "    print(\"โอนเงิน :\", money)\n",
    "    account[\"นายA\"] -= money\n",
    "    account[\"นายB\"] += money\n",
    "\n",
    "try:\n",
    "    getbalance()\n",
    "    tranfer(50.2)\n",
    "    getbalance()\n",
    "except Exception as e:\n",
    "    print(e)\n"
   ]
  },
  {
   "cell_type": "code",
   "execution_count": null,
   "metadata": {},
   "outputs": [],
   "source": []
  },
  {
   "cell_type": "code",
   "execution_count": null,
   "metadata": {},
   "outputs": [],
   "source": []
  },
  {
   "cell_type": "code",
   "execution_count": null,
   "metadata": {},
   "outputs": [],
   "source": []
  },
  {
   "cell_type": "code",
   "execution_count": null,
   "metadata": {},
   "outputs": [],
   "source": []
  },
  {
   "cell_type": "code",
   "execution_count": null,
   "metadata": {},
   "outputs": [],
   "source": []
  },
  {
   "cell_type": "code",
   "execution_count": null,
   "metadata": {},
   "outputs": [],
   "source": []
  },
  {
   "cell_type": "code",
   "execution_count": null,
   "metadata": {},
   "outputs": [],
   "source": []
  }
 ],
 "metadata": {
  "kernelspec": {
   "display_name": "Python 3",
   "language": "python",
   "name": "python3"
  },
  "language_info": {
   "codemirror_mode": {
    "name": "ipython",
    "version": 3
   },
   "file_extension": ".py",
   "mimetype": "text/x-python",
   "name": "python",
   "nbconvert_exporter": "python",
   "pygments_lexer": "ipython3",
   "version": "3.7.1"
  }
 },
 "nbformat": 4,
 "nbformat_minor": 2
}
